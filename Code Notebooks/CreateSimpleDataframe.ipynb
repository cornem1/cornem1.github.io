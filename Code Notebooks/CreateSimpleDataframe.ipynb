{
 "cells": [
  {
   "cell_type": "code",
   "execution_count": 2,
   "id": "b165adf0-7ba3-426a-a669-f0ecf2a591bb",
   "metadata": {},
   "outputs": [
    {
     "name": "stdout",
     "output_type": "stream",
     "text": [
      "     Name  Age  Grade\n",
      "0    Alex   10      5\n",
      "1     Bob   12      7\n",
      "2  Clarke   13      8\n"
     ]
    }
   ],
   "source": [
    "# -*- coding: utf-8 -*-\n",
    "\"\"\"\n",
    "Created on Mon Dec  9 23:06:43 2019\n",
    "\n",
    "@author: MCs Laptop\n",
    "\"\"\"\n",
    "import pandas as pd\n",
    "data = [['Alex',10,5],['Bob',12,7],['Clarke',13,8]]\n",
    "df = pd.DataFrame(data,columns=['Name','Age','Grade'])\n",
    "print(df)\n",
    "\n"
   ]
  },
  {
   "cell_type": "code",
   "execution_count": null,
   "id": "1e590d83-4d3a-49f4-be02-2b72b93328b2",
   "metadata": {},
   "outputs": [],
   "source": []
  }
 ],
 "metadata": {
  "kernelspec": {
   "display_name": "Python 3 (ipykernel)",
   "language": "python",
   "name": "python3"
  },
  "language_info": {
   "codemirror_mode": {
    "name": "ipython",
    "version": 3
   },
   "file_extension": ".py",
   "mimetype": "text/x-python",
   "name": "python",
   "nbconvert_exporter": "python",
   "pygments_lexer": "ipython3",
   "version": "3.9.13"
  }
 },
 "nbformat": 4,
 "nbformat_minor": 5
}
